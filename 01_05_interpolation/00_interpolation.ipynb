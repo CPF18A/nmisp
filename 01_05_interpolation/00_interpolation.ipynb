{
 "cells": [
  {
   "cell_type": "markdown",
   "metadata": {},
   "source": [
    "# 내삽법<br>Interpolation"
   ]
  },
  {
   "cell_type": "markdown",
   "metadata": {},
   "source": [
    "예를 들어 실험을 통해 얻은 두 측정값 사이의 값을 추정하고 싶을 경우, 내삽법을 시도해 볼 수 있다.<br>For instance, to guess values between two measurements, we may try interpolation."
   ]
  },
  {
   "cell_type": "markdown",
   "metadata": {},
   "source": [
    "아래의 표를 살펴보자.<br>Let's take a look at the following table."
   ]
  },
  {
   "cell_type": "code",
   "execution_count": null,
   "metadata": {},
   "outputs": [],
   "source": [
    "# Import NumPy and matplotlib\n",
    "import pylab as py\n",
    "\n",
    "# Import pandas for tables\n",
    "import pandas as pd\n",
    "\n",
    "# What is this?\n",
    "py.seed()\n",
    "\n",
    "# Parameters\n",
    "a = 0.5\n",
    "b = 1.5\n",
    "\n",
    "# x array\n",
    "x_array = py.arange(5+0.5)\n",
    "\n",
    "# True values of y\n",
    "y_true = a * x_array + b\n",
    "\n",
    "# contamination\n",
    "noise = py.random(x_array.shape) - 0.5\n",
    "\n",
    "# Measurement values\n",
    "y_measurement = y_true + noise\n",
    "\n",
    "# Organize data in table form\n",
    "# https://stackoverflow.com/questions35160256\n",
    "df = pd.DataFrame(py.vstack([x_array, y_true, y_measurement]).T, \n",
    "                  columns = ['$x$', '$y_{true}$', '$y_{measurement}$'])\n",
    "\n",
    "# Plot data points\n",
    "ax = df.plot.line(x='$x$', y='$y_{true}$')\n",
    "df.plot.scatter(x='$x$', y='$y_{measurement}$', ax=ax, label='$y_{measurement}$')\n",
    "\n",
    "# Present the table\n",
    "df"
   ]
  },
  {
   "cell_type": "markdown",
   "metadata": {},
   "source": [
    "여기서 $0 \\le x \\le 1$ 구간의 $y$ 값을 알아보자.<br>\n",
    "Let's try to figure out $y$ values in the $0 \\le x \\le 1$ interval."
   ]
  },
  {
   "cell_type": "markdown",
   "metadata": {},
   "source": [
    "두 점 $(x_1, y_1)$, $(x_2, y_2)$ 을 지나는 직선의 방정식을 구할 수 있다.<br>We can formulate the straight line passing two points of $(x_1, y_1)$ and $(x_2, y_2)$."
   ]
  },
  {
   "cell_type": "code",
   "execution_count": null,
   "metadata": {},
   "outputs": [],
   "source": [
    "import sympy as sy\n",
    "sy.init_printing()\n",
    "x = sy.symbols('x')\n",
    "x1, x2 = sy.symbols('x1:3')\n",
    "y1, y2 = sy.symbols('y1:3')\n",
    "slope = (y2 - y1) / (x2 - x1)\n",
    "y_interp = slope * (x - x1) + y1\n",
    "y_interp"
   ]
  },
  {
   "cell_type": "code",
   "execution_count": null,
   "metadata": {},
   "outputs": [],
   "source": [
    "x_interp = py.linspace(0, 1, 10+1)\n",
    "y_interp = py.interp(x_interp, x_array, y_measurement)\n",
    "\n",
    "# Plot data points\n",
    "ax = df.plot.line(x='$x$', y='$y_{true}$')\n",
    "df.plot.scatter(x='$x$', y='$y_{measurement}$', ax=ax, label='$y_{measurement}$')\n",
    "\n",
    "# Plot interpolation\n",
    "ax.plot(x_interp, y_interp, '.', label='$y_{interp}$')\n",
    "py.legend(loc=0)\n"
   ]
  },
  {
   "cell_type": "code",
   "execution_count": null,
   "metadata": {},
   "outputs": [],
   "source": []
  }
 ],
 "metadata": {
  "kernelspec": {
   "display_name": "Python 3",
   "language": "python",
   "name": "python3"
  },
  "language_info": {
   "codemirror_mode": {
    "name": "ipython",
    "version": 3
   },
   "file_extension": ".py",
   "mimetype": "text/x-python",
   "name": "python",
   "nbconvert_exporter": "python",
   "pygments_lexer": "ipython3",
   "version": "3.6.4"
  }
 },
 "nbformat": 4,
 "nbformat_minor": 2
}
